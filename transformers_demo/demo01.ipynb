{
 "cells": [
  {
   "cell_type": "code",
   "execution_count": 3,
   "metadata": {
    "collapsed": true
   },
   "outputs": [
    {
     "name": "stderr",
     "output_type": "stream",
     "text": [
      "Downloading https://file.hankcs.com/hanlp/mtl/close_tok_pos_ner_srl_dep_sdp_con_electra_base_20210111_124519.zip to C:\\Users\\LEMO\\AppData\\Roaming\\hanlp\\mtl/close_tok_pos_ner_srl_dep_sdp_con_electra_base_20210111_124519.zip\n",
      "100% 467.9 MiB   1.2 MiB/s ETA:  0 s [=========================================]\n",
      "Decompressing C:\\Users\\LEMO\\AppData\\Roaming\\hanlp\\mtl/close_tok_pos_ner_srl_dep_sdp_con_electra_base_20210111_124519.zip to C:\\Users\\LEMO\\AppData\\Roaming\\hanlp\\mtl\n",
      "Downloading https://file.hankcs.com/hanlp/transformers/electra_zh_base_20210706_125233.zip to C:\\Users\\LEMO\\AppData\\Roaming\\hanlp\\transformers/electra_zh_base_20210706_125233.zip\n",
      "100%  41.2 KiB  41.2 KiB/s ETA:  0 s [=========================================]\n",
      "Decompressing C:\\Users\\LEMO\\AppData\\Roaming\\hanlp\\transformers/electra_zh_base_20210706_125233.zip to C:\\Users\\LEMO\\AppData\\Roaming\\hanlp\\transformers\n",
      "Downloading https://file.hankcs.com/corpus/char_table.json.zip to C:\\Users\\LEMO\\AppData\\Roaming\\hanlp\\thirdparty\\file.hankcs.com\\corpus/char_table.json.zip\n",
      "100%  19.4 KiB   4.9 KiB/s ETA:  0 s [=========================================]\n",
      "Decompressing C:\\Users\\LEMO\\AppData\\Roaming\\hanlp\\thirdparty\\file.hankcs.com\\corpus/char_table.json.zip to C:\\Users\\LEMO\\AppData\\Roaming\\hanlp\\thirdparty\\file.hankcs.com\\corpus\n",
      "                                   \r"
     ]
    }
   ],
   "source": [
    "# from transformers import pipeline\n",
    "# classifier = pipeline('sentiment-analysis')\n",
    "# classifier('We are very happy to show you the 🤗 Transformers library.')\n",
    "import hanlp\n",
    "hanlp.pretrained.mtl.ALL # 语种见名称最后一个字段或相应语料库\n",
    "HanLP = hanlp.load(hanlp.pretrained.mtl.CLOSE_TOK_POS_NER_SRL_DEP_SDP_CON_ELECTRA_BASE_ZH)"
   ]
  },
  {
   "cell_type": "code",
   "execution_count": 5,
   "outputs": [
    {
     "data": {
      "text/plain": "<IPython.core.display.HTML object>",
      "text/html": "<div style=\"display: table; line-height: 128%;\"><pre style=\"display: table-cell; font-family: SFMono-Regular,Menlo,Monaco,Consolas,Liberation Mono,Courier New,monospace; white-space: nowrap;\">我&nbsp;是&nbsp;一&nbsp;名&nbsp;开发&nbsp;工程师&nbsp;,&nbsp;熟练&nbsp;掌握&nbsp;python&nbsp;,&nbsp;java&nbsp;开发</pre></div>"
     },
     "metadata": {},
     "output_type": "display_data"
    }
   ],
   "source": [
    "ner = HanLP['ner/msra']\n",
    "ner.dict_tags = {('python', 'java', '产品经理'): ('skill', 'skill', 'skill')}\n",
    "HanLP('我是一名开发工程师,熟练掌握python,java开发', tasks='ner/msra').pretty_print()"
   ],
   "metadata": {
    "collapsed": false,
    "pycharm": {
     "name": "#%%\n"
    }
   }
  }
 ],
 "metadata": {
  "kernelspec": {
   "name": "python3",
   "language": "python",
   "display_name": "Python 3"
  },
  "language_info": {
   "codemirror_mode": {
    "name": "ipython",
    "version": 2
   },
   "file_extension": ".py",
   "mimetype": "text/x-python",
   "name": "python",
   "nbconvert_exporter": "python",
   "pygments_lexer": "ipython2",
   "version": "2.7.6"
  }
 },
 "nbformat": 4,
 "nbformat_minor": 0
}