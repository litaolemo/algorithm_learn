{
 "cells": [
  {
   "cell_type": "code",
   "execution_count": 43,
   "metadata": {},
   "outputs": [
    {
     "data": {
      "text/plain": "array([0.00000000e+00, 5.00250125e-03, 1.00050025e-02, ...,\n       9.98999500e+00, 9.99499750e+00, 1.00000000e+01])"
     },
     "execution_count": 43,
     "metadata": {},
     "output_type": "execute_result"
    }
   ],
   "source": [
    "import numpy as np\n",
    "import matplotlib.pyplot as plt\n",
    "import statsmodels.api as sm\n",
    "\n",
    "nsample = 2000\n",
    "x = np.linspace(0, 10, nsample)\n",
    "x"
   ]
  },
  {
   "cell_type": "markdown",
   "metadata": {},
   "source": [
    "#### 一元线性回归"
   ]
  },
  {
   "cell_type": "code",
   "execution_count": 44,
   "metadata": {},
   "outputs": [
    {
     "data": {
      "text/plain": "array([[1.00000000e+00, 0.00000000e+00],\n       [1.00000000e+00, 5.00250125e-03],\n       [1.00000000e+00, 1.00050025e-02],\n       ...,\n       [1.00000000e+00, 9.98999500e+00],\n       [1.00000000e+00, 9.99499750e+00],\n       [1.00000000e+00, 1.00000000e+01]])"
     },
     "execution_count": 44,
     "metadata": {},
     "output_type": "execute_result"
    }
   ],
   "source": [
    "X = sm.add_constant(x)\n",
    "X"
   ]
  },
  {
   "cell_type": "code",
   "execution_count": 45,
   "metadata": {},
   "outputs": [
    {
     "data": {
      "text/plain": "array([2, 5])"
     },
     "execution_count": 45,
     "metadata": {},
     "output_type": "execute_result"
    }
   ],
   "source": [
    "#β0,β1分别设置成2,5\n",
    "beta = np.array([2, 5])\n",
    "beta"
   ]
  },
  {
   "cell_type": "code",
   "execution_count": 27,
   "metadata": {},
   "outputs": [
    {
     "data": {
      "text/plain": "array([ 0.90152812, -0.99395285,  0.23326603, ...,  1.39590587,\n       -0.01612186, -1.02882072])"
     },
     "execution_count": 27,
     "metadata": {},
     "output_type": "execute_result"
    }
   ],
   "source": [
    "#误差项\n",
    "e = np.random.normal(size=nsample)\n",
    "e"
   ]
  },
  {
   "cell_type": "code",
   "execution_count": 28,
   "metadata": {},
   "outputs": [
    {
     "data": {
      "text/plain": "array([ 2.90152812,  1.03105966,  2.28329104, ..., 53.34588086,\n       51.95886563, 50.97117928])"
     },
     "execution_count": 28,
     "metadata": {},
     "output_type": "execute_result"
    }
   ],
   "source": [
    "#实际值y\n",
    "y = np.dot(X, beta) + e\n",
    "y"
   ]
  },
  {
   "cell_type": "code",
   "execution_count": 29,
   "metadata": {
    "collapsed": true
   },
   "outputs": [],
   "source": [
    "#最小二乘法\n",
    "model = sm.OLS(y,X)"
   ]
  },
  {
   "cell_type": "code",
   "execution_count": 30,
   "metadata": {
    "collapsed": true
   },
   "outputs": [],
   "source": [
    "#拟合数据\n",
    "res = model.fit()"
   ]
  },
  {
   "cell_type": "code",
   "execution_count": 31,
   "metadata": {},
   "outputs": [
    {
     "data": {
      "text/plain": "array([1.95386713, 5.01507444])"
     },
     "execution_count": 31,
     "metadata": {},
     "output_type": "execute_result"
    }
   ],
   "source": [
    "#回归系数\n",
    "res.params"
   ]
  },
  {
   "cell_type": "code",
   "execution_count": 32,
   "metadata": {},
   "outputs": [
    {
     "data": {
      "text/plain": "<class 'statsmodels.iolib.summary.Summary'>\n\"\"\"\n                            OLS Regression Results                            \n==============================================================================\nDep. Variable:                      y   R-squared:                       0.995\nModel:                            OLS   Adj. R-squared:                  0.995\nMethod:                 Least Squares   F-statistic:                 4.064e+05\nDate:                Tue, 05 Jul 2022   Prob (F-statistic):               0.00\nTime:                        15:52:12   Log-Likelihood:                -2868.9\nNo. Observations:                2000   AIC:                             5742.\nDf Residuals:                    1998   BIC:                             5753.\nDf Model:                           1                                         \nCovariance Type:            nonrobust                                         \n==============================================================================\n                 coef    std err          t      P>|t|      [0.025      0.975]\n------------------------------------------------------------------------------\nconst          1.9539      0.045     43.012      0.000       1.865       2.043\nx1             5.0151      0.008    637.472      0.000       5.000       5.031\n==============================================================================\nOmnibus:                        0.578   Durbin-Watson:                   1.965\nProb(Omnibus):                  0.749   Jarque-Bera (JB):                0.633\nSkew:                          -0.036   Prob(JB):                        0.729\nKurtosis:                       2.950   Cond. No.                         11.8\n==============================================================================\n\nNotes:\n[1] Standard Errors assume that the covariance matrix of the errors is correctly specified.\n\"\"\"",
      "text/html": "<table class=\"simpletable\">\n<caption>OLS Regression Results</caption>\n<tr>\n  <th>Dep. Variable:</th>            <td>y</td>        <th>  R-squared:         </th> <td>   0.995</td> \n</tr>\n<tr>\n  <th>Model:</th>                   <td>OLS</td>       <th>  Adj. R-squared:    </th> <td>   0.995</td> \n</tr>\n<tr>\n  <th>Method:</th>             <td>Least Squares</td>  <th>  F-statistic:       </th> <td>4.064e+05</td>\n</tr>\n<tr>\n  <th>Date:</th>             <td>Tue, 05 Jul 2022</td> <th>  Prob (F-statistic):</th>  <td>  0.00</td>  \n</tr>\n<tr>\n  <th>Time:</th>                 <td>15:52:12</td>     <th>  Log-Likelihood:    </th> <td> -2868.9</td> \n</tr>\n<tr>\n  <th>No. Observations:</th>      <td>  2000</td>      <th>  AIC:               </th> <td>   5742.</td> \n</tr>\n<tr>\n  <th>Df Residuals:</th>          <td>  1998</td>      <th>  BIC:               </th> <td>   5753.</td> \n</tr>\n<tr>\n  <th>Df Model:</th>              <td>     1</td>      <th>                     </th>     <td> </td>    \n</tr>\n<tr>\n  <th>Covariance Type:</th>      <td>nonrobust</td>    <th>                     </th>     <td> </td>    \n</tr>\n</table>\n<table class=\"simpletable\">\n<tr>\n    <td></td>       <th>coef</th>     <th>std err</th>      <th>t</th>      <th>P>|t|</th>  <th>[0.025</th>    <th>0.975]</th>  \n</tr>\n<tr>\n  <th>const</th> <td>    1.9539</td> <td>    0.045</td> <td>   43.012</td> <td> 0.000</td> <td>    1.865</td> <td>    2.043</td>\n</tr>\n<tr>\n  <th>x1</th>    <td>    5.0151</td> <td>    0.008</td> <td>  637.472</td> <td> 0.000</td> <td>    5.000</td> <td>    5.031</td>\n</tr>\n</table>\n<table class=\"simpletable\">\n<tr>\n  <th>Omnibus:</th>       <td> 0.578</td> <th>  Durbin-Watson:     </th> <td>   1.965</td>\n</tr>\n<tr>\n  <th>Prob(Omnibus):</th> <td> 0.749</td> <th>  Jarque-Bera (JB):  </th> <td>   0.633</td>\n</tr>\n<tr>\n  <th>Skew:</th>          <td>-0.036</td> <th>  Prob(JB):          </th> <td>   0.729</td>\n</tr>\n<tr>\n  <th>Kurtosis:</th>      <td> 2.950</td> <th>  Cond. No.          </th> <td>    11.8</td>\n</tr>\n</table><br/><br/>Notes:<br/>[1] Standard Errors assume that the covariance matrix of the errors is correctly specified."
     },
     "execution_count": 32,
     "metadata": {},
     "output_type": "execute_result"
    }
   ],
   "source": [
    "#全部结果\n",
    "res.summary()"
   ]
  },
  {
   "cell_type": "code",
   "execution_count": 33,
   "metadata": {},
   "outputs": [
    {
     "data": {
      "text/plain": "array([ 1.95386713,  1.97895505,  2.00404296, ..., 52.05443569,\n       52.07952361, 52.10461153])"
     },
     "execution_count": 33,
     "metadata": {},
     "output_type": "execute_result"
    }
   ],
   "source": [
    "#拟合的估计值\n",
    "y_ = res.fittedvalues\n",
    "y_"
   ]
  },
  {
   "cell_type": "code",
   "execution_count": 34,
   "metadata": {},
   "outputs": [
    {
     "data": {
      "text/plain": "<Figure size 576x432 with 1 Axes>",
      "image/png": "[encoded data removed]"
     },
     "metadata": {
      "needs_background": "light"
     },
     "output_type": "display_data"
    }
   ],
   "source": [
    "fig, ax = plt.subplots(figsize=(8,6))\n",
    "ax.plot(x, y, 'o', label='data')#原始数据\n",
    "ax.plot(x, y_, 'r--.',label='test')#拟合数据\n",
    "ax.legend(loc='best')\n",
    "plt.show()"
   ]
  },
  {
   "cell_type": "markdown",
   "metadata": {},
   "source": [
    "#### 高阶回归"
   ]
  },
  {
   "cell_type": "code",
   "execution_count": 53,
   "metadata": {},
   "outputs": [],
   "source": [
    "#Y=5+2⋅X+3⋅X^2\n",
    " \n",
    "nsample = 50\n",
    "x = np.linspace(0, 10, nsample)\n",
    "X = np.column_stack((x, x**2))\n",
    "X = sm.add_constant(X)"
   ]
  },
  {
   "cell_type": "code",
   "execution_count": 50,
   "metadata": {},
   "outputs": [
    {
     "data": {
      "text/plain": "array([5.59271042, 1.6391883 , 3.03652854])"
     },
     "execution_count": 50,
     "metadata": {},
     "output_type": "execute_result"
    }
   ],
   "source": [
    "beta = np.array([5, 2, 3])\n",
    "e = np.random.normal(size=nsample)\n",
    "y = np.dot(X, beta) + e\n",
    "model = sm.OLS(y,X)\n",
    "results = model.fit()\n",
    "results.params"
   ]
  },
  {
   "cell_type": "code",
   "execution_count": 51,
   "metadata": {},
   "outputs": [
    {
     "data": {
      "text/plain": "<class 'statsmodels.iolib.summary.Summary'>\n\"\"\"\n                            OLS Regression Results                            \n==============================================================================\nDep. Variable:                      y   R-squared:                       1.000\nModel:                            OLS   Adj. R-squared:                  1.000\nMethod:                 Least Squares   F-statistic:                 2.295e+05\nDate:                Tue, 05 Jul 2022   Prob (F-statistic):           1.75e-94\nTime:                        16:18:03   Log-Likelihood:                -70.099\nNo. Observations:                  50   AIC:                             146.2\nDf Residuals:                      47   BIC:                             151.9\nDf Model:                           2                                         \nCovariance Type:            nonrobust                                         \n==============================================================================\n                 coef    std err          t      P>|t|      [0.025      0.975]\n------------------------------------------------------------------------------\nconst          5.5927      0.414     13.523      0.000       4.761       6.425\nx1             1.6392      0.191      8.570      0.000       1.254       2.024\nx2             3.0365      0.018    164.161      0.000       2.999       3.074\n==============================================================================\nOmnibus:                        1.260   Durbin-Watson:                   2.125\nProb(Omnibus):                  0.533   Jarque-Bera (JB):                0.752\nSkew:                           0.293   Prob(JB):                        0.687\nKurtosis:                       3.130   Cond. No.                         142.\n==============================================================================\n\nNotes:\n[1] Standard Errors assume that the covariance matrix of the errors is correctly specified.\n\"\"\"",
      "text/html": "<table class=\"simpletable\">\n<caption>OLS Regression Results</caption>\n<tr>\n  <th>Dep. Variable:</th>            <td>y</td>        <th>  R-squared:         </th> <td>   1.000</td> \n</tr>\n<tr>\n  <th>Model:</th>                   <td>OLS</td>       <th>  Adj. R-squared:    </th> <td>   1.000</td> \n</tr>\n<tr>\n  <th>Method:</th>             <td>Least Squares</td>  <th>  F-statistic:       </th> <td>2.295e+05</td>\n</tr>\n<tr>\n  <th>Date:</th>             <td>Tue, 05 Jul 2022</td> <th>  Prob (F-statistic):</th> <td>1.75e-94</td> \n</tr>\n<tr>\n  <th>Time:</th>                 <td>16:18:03</td>     <th>  Log-Likelihood:    </th> <td> -70.099</td> \n</tr>\n<tr>\n  <th>No. Observations:</th>      <td>    50</td>      <th>  AIC:               </th> <td>   146.2</td> \n</tr>\n<tr>\n  <th>Df Residuals:</th>          <td>    47</td>      <th>  BIC:               </th> <td>   151.9</td> \n</tr>\n<tr>\n  <th>Df Model:</th>              <td>     2</td>      <th>                     </th>     <td> </td>    \n</tr>\n<tr>\n  <th>Covariance Type:</th>      <td>nonrobust</td>    <th>                     </th>     <td> </td>    \n</tr>\n</table>\n<table class=\"simpletable\">\n<tr>\n    <td></td>       <th>coef</th>     <th>std err</th>      <th>t</th>      <th>P>|t|</th>  <th>[0.025</th>    <th>0.975]</th>  \n</tr>\n<tr>\n  <th>const</th> <td>    5.5927</td> <td>    0.414</td> <td>   13.523</td> <td> 0.000</td> <td>    4.761</td> <td>    6.425</td>\n</tr>\n<tr>\n  <th>x1</th>    <td>    1.6392</td> <td>    0.191</td> <td>    8.570</td> <td> 0.000</td> <td>    1.254</td> <td>    2.024</td>\n</tr>\n<tr>\n  <th>x2</th>    <td>    3.0365</td> <td>    0.018</td> <td>  164.161</td> <td> 0.000</td> <td>    2.999</td> <td>    3.074</td>\n</tr>\n</table>\n<table class=\"simpletable\">\n<tr>\n  <th>Omnibus:</th>       <td> 1.260</td> <th>  Durbin-Watson:     </th> <td>   2.125</td>\n</tr>\n<tr>\n  <th>Prob(Omnibus):</th> <td> 0.533</td> <th>  Jarque-Bera (JB):  </th> <td>   0.752</td>\n</tr>\n<tr>\n  <th>Skew:</th>          <td> 0.293</td> <th>  Prob(JB):          </th> <td>   0.687</td>\n</tr>\n<tr>\n  <th>Kurtosis:</th>      <td> 3.130</td> <th>  Cond. No.          </th> <td>    142.</td>\n</tr>\n</table><br/><br/>Notes:<br/>[1] Standard Errors assume that the covariance matrix of the errors is correctly specified."
     },
     "execution_count": 51,
     "metadata": {},
     "output_type": "execute_result"
    }
   ],
   "source": [
    "results.summary()"
   ]
  },
  {
   "cell_type": "code",
   "execution_count": 52,
   "metadata": {},
   "outputs": [
    {
     "data": {
      "text/plain": "<Figure size 576x432 with 1 Axes>",
      "image/png": "[encoded data removed]"
     },
     "metadata": {
      "needs_background": "light"
     },
     "output_type": "display_data"
    }
   ],
   "source": [
    "y_fitted = results.fittedvalues\n",
    "fig, ax = plt.subplots(figsize=(8,6))\n",
    "ax.plot(x, y, 'o', label='data')\n",
    "ax.plot(x, y_fitted, 'r--.',label='OLS')\n",
    "ax.legend(loc='best')\n",
    "plt.show()"
   ]
  },
  {
   "cell_type": "markdown",
   "metadata": {},
   "source": [
    "#### 分类变量\n",
    "\n",
    "假设分类变量有4个取值（a,b,c）,比如考试成绩有3个等级。那么a就是（1,0,0），b（0,1,0），c(0,0,1),这个时候就需要3个系数β0,β1,β2，也就是β0x0+β1x1+β2x2"
   ]
  },
  {
   "cell_type": "code",
   "execution_count": 46,
   "metadata": {},
   "outputs": [
    {
     "data": {
      "text/plain": "array([0, 0, 0, 0, 0, 0, 0, 0, 0, 0, 0, 0, 0, 0, 0, 0, 0, 0, 0, 0, 0, 0,\n       0, 0, 0, 0, 0, 0, 0, 0, 0, 0, 0, 0, 0, 0, 0, 0, 0, 0, 0, 0, 0, 0,\n       0, 0, 0, 0, 0, 0])"
     },
     "execution_count": 46,
     "metadata": {},
     "output_type": "execute_result"
    }
   ],
   "source": [
    "nsample = 50\n",
    "groups = np.zeros(nsample,int)\n",
    "groups"
   ]
  },
  {
   "cell_type": "code",
   "execution_count": 47,
   "metadata": {},
   "outputs": [
    {
     "name": "stderr",
     "output_type": "stream",
     "text": [
      "D:\\ProgramData\\Anaconda3\\envs\\TensorFlow_work\\lib\\site-packages\\statsmodels\\tools\\tools.py:152: FutureWarning: categorical is deprecated. Use pandas Categorical to represent categorical data and can get_dummies to construct dummy arrays. It will be removed after release 0.13.\n",
      "  warnings.warn(\n"
     ]
    },
    {
     "data": {
      "text/plain": "array([[1., 0., 0.],\n       [1., 0., 0.],\n       [1., 0., 0.],\n       [1., 0., 0.],\n       [1., 0., 0.],\n       [1., 0., 0.],\n       [1., 0., 0.],\n       [1., 0., 0.],\n       [1., 0., 0.],\n       [1., 0., 0.],\n       [1., 0., 0.],\n       [1., 0., 0.],\n       [1., 0., 0.],\n       [1., 0., 0.],\n       [1., 0., 0.],\n       [1., 0., 0.],\n       [1., 0., 0.],\n       [1., 0., 0.],\n       [1., 0., 0.],\n       [1., 0., 0.],\n       [0., 1., 0.],\n       [0., 1., 0.],\n       [0., 1., 0.],\n       [0., 1., 0.],\n       [0., 1., 0.],\n       [0., 1., 0.],\n       [0., 1., 0.],\n       [0., 1., 0.],\n       [0., 1., 0.],\n       [0., 1., 0.],\n       [0., 1., 0.],\n       [0., 1., 0.],\n       [0., 1., 0.],\n       [0., 1., 0.],\n       [0., 1., 0.],\n       [0., 1., 0.],\n       [0., 1., 0.],\n       [0., 1., 0.],\n       [0., 1., 0.],\n       [0., 1., 0.],\n       [0., 0., 1.],\n       [0., 0., 1.],\n       [0., 0., 1.],\n       [0., 0., 1.],\n       [0., 0., 1.],\n       [0., 0., 1.],\n       [0., 0., 1.],\n       [0., 0., 1.],\n       [0., 0., 1.],\n       [0., 0., 1.]])"
     },
     "execution_count": 47,
     "metadata": {},
     "output_type": "execute_result"
    }
   ],
   "source": [
    "groups[20:40] = 1\n",
    "groups[40:] = 2\n",
    "dummy = sm.categorical(groups, drop=True)\n",
    "dummy"
   ]
  },
  {
   "cell_type": "code",
   "execution_count": 48,
   "metadata": {},
   "outputs": [
    {
     "data": {
      "text/plain": "<class 'statsmodels.iolib.summary.Summary'>\n\"\"\"\n                            OLS Regression Results                            \n==============================================================================\nDep. Variable:                      y   R-squared:                       0.995\nModel:                            OLS   Adj. R-squared:                  0.995\nMethod:                 Least Squares   F-statistic:                     2973.\nDate:                Tue, 05 Jul 2022   Prob (F-statistic):           1.19e-52\nTime:                        16:17:48   Log-Likelihood:                -71.434\nNo. Observations:                  50   AIC:                             150.9\nDf Residuals:                      46   BIC:                             158.5\nDf Model:                           3                                         \nCovariance Type:            nonrobust                                         \n==============================================================================\n                 coef    std err          t      P>|t|      [0.025      0.975]\n------------------------------------------------------------------------------\nconst          7.2269      0.596     12.116      0.000       6.026       8.428\nx1             2.1192      0.069     30.879      0.000       1.981       2.257\nx2             0.2070      0.378      0.547      0.587      -0.554       0.968\nx3             2.1556      0.316      6.819      0.000       1.519       2.792\nx4             4.8643      0.712      6.830      0.000       3.431       6.298\n==============================================================================\nOmnibus:                        9.716   Durbin-Watson:                   2.003\nProb(Omnibus):                  0.008   Jarque-Bera (JB):               10.628\nSkew:                          -0.736   Prob(JB):                      0.00492\nKurtosis:                       4.713   Cond. No.                     3.77e+17\n==============================================================================\n\nNotes:\n[1] Standard Errors assume that the covariance matrix of the errors is correctly specified.\n[2] The smallest eigenvalue is 4.78e-32. This might indicate that there are\nstrong multicollinearity problems or that the design matrix is singular.\n\"\"\"",
      "text/html": "<table class=\"simpletable\">\n<caption>OLS Regression Results</caption>\n<tr>\n  <th>Dep. Variable:</th>            <td>y</td>        <th>  R-squared:         </th> <td>   0.995</td>\n</tr>\n<tr>\n  <th>Model:</th>                   <td>OLS</td>       <th>  Adj. R-squared:    </th> <td>   0.995</td>\n</tr>\n<tr>\n  <th>Method:</th>             <td>Least Squares</td>  <th>  F-statistic:       </th> <td>   2973.</td>\n</tr>\n<tr>\n  <th>Date:</th>             <td>Tue, 05 Jul 2022</td> <th>  Prob (F-statistic):</th> <td>1.19e-52</td>\n</tr>\n<tr>\n  <th>Time:</th>                 <td>16:17:48</td>     <th>  Log-Likelihood:    </th> <td> -71.434</td>\n</tr>\n<tr>\n  <th>No. Observations:</th>      <td>    50</td>      <th>  AIC:               </th> <td>   150.9</td>\n</tr>\n<tr>\n  <th>Df Residuals:</th>          <td>    46</td>      <th>  BIC:               </th> <td>   158.5</td>\n</tr>\n<tr>\n  <th>Df Model:</th>              <td>     3</td>      <th>                     </th>     <td> </td>   \n</tr>\n<tr>\n  <th>Covariance Type:</th>      <td>nonrobust</td>    <th>                     </th>     <td> </td>   \n</tr>\n</table>\n<table class=\"simpletable\">\n<tr>\n    <td></td>       <th>coef</th>     <th>std err</th>      <th>t</th>      <th>P>|t|</th>  <th>[0.025</th>    <th>0.975]</th>  \n</tr>\n<tr>\n  <th>const</th> <td>    7.2269</td> <td>    0.596</td> <td>   12.116</td> <td> 0.000</td> <td>    6.026</td> <td>    8.428</td>\n</tr>\n<tr>\n  <th>x1</th>    <td>    2.1192</td> <td>    0.069</td> <td>   30.879</td> <td> 0.000</td> <td>    1.981</td> <td>    2.257</td>\n</tr>\n<tr>\n  <th>x2</th>    <td>    0.2070</td> <td>    0.378</td> <td>    0.547</td> <td> 0.587</td> <td>   -0.554</td> <td>    0.968</td>\n</tr>\n<tr>\n  <th>x3</th>    <td>    2.1556</td> <td>    0.316</td> <td>    6.819</td> <td> 0.000</td> <td>    1.519</td> <td>    2.792</td>\n</tr>\n<tr>\n  <th>x4</th>    <td>    4.8643</td> <td>    0.712</td> <td>    6.830</td> <td> 0.000</td> <td>    3.431</td> <td>    6.298</td>\n</tr>\n</table>\n<table class=\"simpletable\">\n<tr>\n  <th>Omnibus:</th>       <td> 9.716</td> <th>  Durbin-Watson:     </th> <td>   2.003</td>\n</tr>\n<tr>\n  <th>Prob(Omnibus):</th> <td> 0.008</td> <th>  Jarque-Bera (JB):  </th> <td>  10.628</td>\n</tr>\n<tr>\n  <th>Skew:</th>          <td>-0.736</td> <th>  Prob(JB):          </th> <td> 0.00492</td>\n</tr>\n<tr>\n  <th>Kurtosis:</th>      <td> 4.713</td> <th>  Cond. No.          </th> <td>3.77e+17</td>\n</tr>\n</table><br/><br/>Notes:<br/>[1] Standard Errors assume that the covariance matrix of the errors is correctly specified.<br/>[2] The smallest eigenvalue is 4.78e-32. This might indicate that there are<br/>strong multicollinearity problems or that the design matrix is singular."
     },
     "execution_count": 48,
     "metadata": {},
     "output_type": "execute_result"
    }
   ],
   "source": [
    "#Y=5+2X+3Z1+6⋅Z2+9⋅Z3.\n",
    " \n",
    "x = np.linspace(0, 20, nsample)\n",
    "X = np.column_stack((x, dummy))\n",
    "X = sm.add_constant(X)\n",
    "beta = [5, 2, 3, 6, 9]\n",
    "e = np.random.normal(size=nsample)\n",
    "y = np.dot(X, beta) + e\n",
    "result = sm.OLS(y,X).fit()\n",
    "result.summary()"
   ]
  },
  {
   "cell_type": "code",
   "execution_count": 42,
   "metadata": {},
   "outputs": [
    {
     "data": {
      "text/plain": "<Figure size 576x432 with 1 Axes>",
      "image/png": "[encoded data removed]"
     },
     "metadata": {
      "needs_background": "light"
     },
     "output_type": "display_data"
    }
   ],
   "source": [
    "fig, ax = plt.subplots(figsize=(8,6))\n",
    "ax.plot(x, y, 'o', label=\"data\")\n",
    "ax.plot(x, result.fittedvalues, 'r--.', label=\"OLS\")\n",
    "ax.legend(loc='best')\n",
    "plt.show()"
   ]
  },
  {
   "cell_type": "code",
   "execution_count": 42,
   "metadata": {
    "collapsed": true
   },
   "outputs": [],
   "source": []
  }
 ],
 "metadata": {
  "kernelspec": {
   "name": "python3",
   "language": "python",
   "display_name": "Python 3"
  },
  "language_info": {
   "codemirror_mode": {
    "name": "ipython",
    "version": 3
   },
   "file_extension": ".py",
   "mimetype": "text/x-python",
   "name": "python",
   "nbconvert_exporter": "python",
   "pygments_lexer": "ipython3",
   "version": "3.6.3"
  }
 },
 "nbformat": 4,
 "nbformat_minor": 2
}